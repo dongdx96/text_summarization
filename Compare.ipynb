{
 "cells": [
  {
   "cell_type": "code",
   "execution_count": 1,
   "metadata": {},
   "outputs": [],
   "source": [
    "from pyvi.pyvi import ViTokenizer\n",
    "from gensim.models import Word2Vec, KeyedVectors\n",
    "import string\n",
    "import nltk\n",
    "import io, re"
   ]
  },
  {
   "cell_type": "code",
   "execution_count": 2,
   "metadata": {},
   "outputs": [],
   "source": [
    "def stop_word():\n",
    "    stopWords = io.open('/home/dong/text_summarization/sumy/data/stopwords/english.txt', 'r')\n",
    "    stopWords = [x.strip() for x in stopWords]\n",
    "    return stopWords"
   ]
  },
  {
   "cell_type": "code",
   "execution_count": 3,
   "metadata": {},
   "outputs": [],
   "source": [
    "def tokenize(sentence):\n",
    "    return nltk.word_tokenize(sentence)"
   ]
  },
  {
   "cell_type": "code",
   "execution_count": 4,
   "metadata": {},
   "outputs": [],
   "source": [
    "def clean_words(sentence):\n",
    "    sentence = sentence.lower()\n",
    "    def to_unicode(text, encoding='utf8', errors='strict'):\n",
    "        \"\"\"Convert a string (bytestring in `encoding` or unicode), to unicode.\"\"\"\n",
    "        if isinstance(text, str):\n",
    "            return text\n",
    "        return unicode(text, encoding, errors=errors)\n",
    "        \n",
    "    punc = string.punctuation\n",
    "    punc = punc.replace('_', '')\n",
    "    RE_PUNCT = re.compile('([%s])+' % re.escape(punc), re.UNICODE)\n",
    "    def strip_punctuation(s):\n",
    "        s = to_unicode(s)\n",
    "        return RE_PUNCT.sub(\"\", s)\n",
    "\n",
    "    def split_words(sentence):\n",
    "        return nltk.word_tokenize(sentence)\n",
    "    def remove_stopwords(s):\n",
    "        return \"\" if s in stop_word() else s\n",
    "        \n",
    "    words = split_words(sentence)\n",
    "    return \" \".join(strip_punctuation(remove_stopwords(w)) \\\n",
    "            for w in words if w not in stop_word())"
   ]
  },
  {
   "cell_type": "code",
   "execution_count": 5,
   "metadata": {},
   "outputs": [],
   "source": [
    "def split_sentences(text):\n",
    "    RE_SENTENCE = re.compile('(\\S.+?[.!?])(?=\\s+|$)|(\\S.+?)(?=[\\n]|$)')\n",
    "    \n",
    "    def get_sentences(text):\n",
    "        for match in RE_SENTENCE.finditer(text):\n",
    "            yield match.group()\n",
    "    return list(get_sentences(text))"
   ]
  },
  {
   "cell_type": "code",
   "execution_count": 6,
   "metadata": {},
   "outputs": [],
   "source": [
    "# def compare_sentences(sentence1, sentence2):\n",
    "    "
   ]
  },
  {
   "cell_type": "code",
   "execution_count": 8,
   "metadata": {},
   "outputs": [],
   "source": [
    "if __name__ == \"__main__\":\n",
    "    sentences1 = \"he walked to the store yesterday. He is too young\"\n",
    "    sentences2 = \"yesterday, he walked to the store.\"\n",
    "    data = list()\n",
    "    data.append(clean_words(sentences1).split())\n",
    "    data.append(clean_words(sentences2).split())\n",
    "    model = KeyedVectors.load_word2vec_format('GoogleNews-vectors-negative300.bin', binary=True)\n",
    "    \n",
    "#     model = Word2Vec(data, size=100, window=5, min_count=5, workers=4)\n",
    "    "
   ]
  },
  {
   "cell_type": "code",
   "execution_count": 18,
   "metadata": {},
   "outputs": [
    {
     "name": "stdout",
     "output_type": "stream",
     "text": [
      "[(u'queen', 0.7118192315101624), (u'monarch', 0.6189672946929932), (u'princess', 0.5902429819107056), (u'crown_prince', 0.5499460697174072), (u'prince', 0.5377322435379028), (u'kings', 0.5236843824386597), (u'Queen_Consort', 0.5235944986343384), (u'queens', 0.5181134343147278), (u'sultan', 0.5098592638969421), (u'monarchy', 0.5087411999702454)]\n"
     ]
    }
   ],
   "source": [
    "print model.wv.most_similar(positive=['woman', 'king'], negative=['man'])"
   ]
  }
 ],
 "metadata": {
  "kernelspec": {
   "display_name": "Python 2",
   "language": "python",
   "name": "python2"
  },
  "language_info": {
   "codemirror_mode": {
    "name": "ipython",
    "version": 2
   },
   "file_extension": ".py",
   "mimetype": "text/x-python",
   "name": "python",
   "nbconvert_exporter": "python",
   "pygments_lexer": "ipython2",
   "version": "2.7.12"
  }
 },
 "nbformat": 4,
 "nbformat_minor": 2
}
