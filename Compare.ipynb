{
 "cells": [
  {
   "cell_type": "code",
   "execution_count": 1,
   "metadata": {},
   "outputs": [],
   "source": [
    "from pyvi.pyvi import ViTokenizer\n",
    "from gensim.models import Word2Vec, KeyedVectors\n",
    "from math import sqrt, pow\n",
    "import numpy as np\n",
    "import string\n",
    "import nltk\n",
    "import io, re"
   ]
  },
  {
   "cell_type": "code",
   "execution_count": 2,
   "metadata": {},
   "outputs": [],
   "source": [
    "def stop_word():\n",
    "    stopWords = io.open('/home/dong/text_summarization/sumy/data/stopwords/english.txt', 'r')\n",
    "    stopWords = [x.strip() for x in stopWords]\n",
    "    return stopWords"
   ]
  },
  {
   "cell_type": "code",
   "execution_count": 3,
   "metadata": {},
   "outputs": [],
   "source": [
    "def tokenize(sentence):\n",
    "    return nltk.word_tokenize(sentence)"
   ]
  },
  {
   "cell_type": "code",
   "execution_count": 4,
   "metadata": {},
   "outputs": [],
   "source": [
    "def clean_words(sentence):\n",
    "    sentence = sentence.lower()\n",
    "    def to_unicode(text, encoding='utf8', errors='strict'):\n",
    "        \"\"\"Convert a string (bytestring in `encoding` or unicode), to unicode.\"\"\"\n",
    "        if isinstance(text, str):\n",
    "            return text\n",
    "        return unicode(text, encoding, errors=errors)\n",
    "        \n",
    "    punc = string.punctuation\n",
    "    punc = punc.replace('_', '')\n",
    "    RE_PUNCT = re.compile('([%s])+' % re.escape(punc), re.UNICODE)\n",
    "    def strip_punctuation(s):\n",
    "        s = to_unicode(s)\n",
    "        return RE_PUNCT.sub(\"\", s)\n",
    "\n",
    "    def split_words(sentence):\n",
    "        return nltk.word_tokenize(sentence)\n",
    "    def remove_stopwords(s):\n",
    "        return \"\" if s in stop_word() else s\n",
    "        \n",
    "    words = split_words(sentence)\n",
    "    return \" \".join(strip_punctuation(remove_stopwords(w)) \\\n",
    "            for w in words if w not in stop_word())"
   ]
  },
  {
   "cell_type": "code",
   "execution_count": 5,
   "metadata": {},
   "outputs": [],
   "source": [
    "def split_sentences(text):\n",
    "    RE_SENTENCE = re.compile('(\\S.+?[.!?])(?=\\s+|$)|(\\S.+?)(?=[\\n]|$)')\n",
    "    \n",
    "    def get_sentences(text):\n",
    "        for match in RE_SENTENCE.finditer(text):\n",
    "            yield match.group()\n",
    "    return list(get_sentences(text))"
   ]
  },
  {
   "cell_type": "code",
   "execution_count": 6,
   "metadata": {},
   "outputs": [],
   "source": [
    "def cosin(vector1, vector2):\n",
    "    length = len(vector1)\n",
    "    numerator = 0\n",
    "    denominator1 = 0\n",
    "    denominator2 = 0\n",
    "    for i in range(length):\n",
    "        numerator += vector1[i]*vector2[i]\n",
    "        denominator1 += pow(vector1[i], 2)\n",
    "        denominator2 += pow(vector2[i], 2)\n",
    "    if (denominator1 > 0 and denominator2 > 0):\n",
    "        return numerator/(sqrt(denominator1)*sqrt(denominator2))\n",
    "    else:\n",
    "        return 0.0"
   ]
  },
  {
   "cell_type": "code",
   "execution_count": 7,
   "metadata": {},
   "outputs": [],
   "source": [
    "if __name__ == \"__main__\":\n",
    "    model = KeyedVectors.load_word2vec_format('GoogleNews-vectors-negative300.bin', binary=True)    "
   ]
  },
  {
   "cell_type": "code",
<<<<<<< HEAD
   "execution_count": 8,
=======
   "execution_count": 63,
>>>>>>> 33bb540ab6477f21e9cd0871544009a4cd54ae48
   "metadata": {},
   "outputs": [],
   "source": [
    "sentences1 = \"This is a dog.\"\n",
    "sentences2 = \"It is my dog.\"\n",
    "data = list()\n",
    "data.append(clean_words(sentences1).split())\n",
    "data.append(clean_words(sentences2).split())"
   ]
  },
  {
   "cell_type": "code",
<<<<<<< HEAD
   "execution_count": 9,
=======
   "execution_count": 64,
>>>>>>> 33bb540ab6477f21e9cd0871544009a4cd54ae48
   "metadata": {},
   "outputs": [
    {
     "name": "stdout",
     "output_type": "stream",
     "text": [
      "['dog']\n",
      "['dog']\n"
     ]
    }
   ],
   "source": [
    "vector1 = np.zeros(300)\n",
    "vector2 = np.zeros(300)\n",
    "for t in data[0]:\n",
    "    tmp = model.wv[t]\n",
    "    vector1 += tmp\n",
    "for t in data[1]:\n",
    "    tmp = model.wv[t]\n",
    "    vector2 += tmp\n",
    "# print vector1[0]\n",
    "vector1 = vector1/len(data[0])\n",
    "vector2 = vector2/len(data[1])\n",
    "print data[0]\n",
    "print data[1]"
   ]
  },
  {
   "cell_type": "code",
<<<<<<< HEAD
   "execution_count": 10,
=======
   "execution_count": 65,
>>>>>>> 33bb540ab6477f21e9cd0871544009a4cd54ae48
   "metadata": {
    "scrolled": true
   },
   "outputs": [
    {
     "name": "stdout",
     "output_type": "stream",
     "text": [
      "--------------------------------------------\n",
      "1.0\n",
      "---------------------------------------------\n"
     ]
    }
   ],
   "source": [
<<<<<<< HEAD
    "print ('---------------------------------------------')\n",
    "# vector = vector/len(data[0])\n",
    "print cosin(vector1, vector2)\n",
    "print ('---------------------------------------------')"
=======
    "print ('--------------------------------------------')\n",
    "# vector = vector/len(data[0])\n",
    "print cosin(vector1, vector2)\n",
    "print('---------------------------------------------')"
>>>>>>> 33bb540ab6477f21e9cd0871544009a4cd54ae48
   ]
  },
  {
   "cell_type": "code",
<<<<<<< HEAD
   "execution_count": 11,
=======
   "execution_count": 62,
>>>>>>> 33bb540ab6477f21e9cd0871544009a4cd54ae48
   "metadata": {},
   "outputs": [
    {
     "name": "stdout",
     "output_type": "stream",
     "text": [
      "0.439106080238\n"
     ]
    }
   ],
   "source": [
    "vec1 = model.wv['like']\n",
    "vec2 = model.wv['unlike']\n",
    "print cosin(vec1, vec2)"
   ]
  }
 ],
 "metadata": {
  "kernelspec": {
   "display_name": "Python 2",
   "language": "python",
   "name": "python2"
  },
  "language_info": {
   "codemirror_mode": {
    "name": "ipython",
    "version": 2
   },
   "file_extension": ".py",
   "mimetype": "text/x-python",
   "name": "python",
   "nbconvert_exporter": "python",
   "pygments_lexer": "ipython2",
   "version": "2.7.12"
  }
 },
 "nbformat": 4,
 "nbformat_minor": 2
}
